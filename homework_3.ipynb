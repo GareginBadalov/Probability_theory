{
 "cells": [
  {
   "cell_type": "markdown",
   "metadata": {},
   "source": [
    "# Задача 1\n",
    "\n",
    "###### Даны значения зарплат из выборки выпускников: \n",
    "###### 100, 80, 75, 77, 89, 33, 45, 25, 65, 17, 30, 24, 57, 55, 70, 75, 65, 84, 90, 150.\n",
    "\n",
    "###### Без использования статистических функций вроде mean, std, var, посчитать среднее арифметическое, среднее квадратичное отклонение, смещенную и несмещенную оценки дисперсий для данной выборки.\n",
    "\n",
    "###### Можно затем посчитать те же значения с использованием статистических функций, чтобы проверить себя."
   ]
  },
  {
   "cell_type": "code",
   "execution_count": 12,
   "metadata": {},
   "outputs": [],
   "source": [
    "import numpy as np\n",
    "import pandas as pd\n",
    "from pandas import DataFrame\n",
    "from matplotlib import pyplot as plt"
   ]
  },
  {
   "cell_type": "code",
   "execution_count": 2,
   "metadata": {},
   "outputs": [],
   "source": [
    "list_salary = [100, 80, 75, 77, 89, 33, 45, 25, 65, 17, 30, 24, 57, 55, 70, 75, 65, 84, 90, 150]"
   ]
  },
  {
   "cell_type": "code",
   "execution_count": 68,
   "metadata": {},
   "outputs": [
    {
     "name": "stdout",
     "output_type": "stream",
     "text": [
      "Cреднее арифметическое = 65.3, \n",
      "Рассчитанное функцией = 65.3\n"
     ]
    }
   ],
   "source": [
    "my_mean = sum(list_salary) / len(list_salary)\n",
    "df = DataFrame (list_salary,columns=['Salary'])\n",
    "print(f\"Cреднее арифметическое = {my_mean}, \\nРассчитанное функцией = {df['Salary'].mean()}\")"
   ]
  },
  {
   "cell_type": "code",
   "execution_count": 67,
   "metadata": {},
   "outputs": [
    {
     "name": "stdout",
     "output_type": "stream",
     "text": [
      "среднее квадратичное отклонение = 30.823854398825596, \n",
      "Рассчитанное функцией = 30.823854398825596 \n"
     ]
    }
   ],
   "source": [
    "salary_std = np.sqrt(((df['Salary'] - df['Salary'].mean()) ** 2).sum() / df['Salary'].count())\n",
    "salary_std\n",
    "print(f\"Cреднее квадратичное отклонение = {salary_std}, \\nРассчитанное функцией = {df['Salary'].std(ddof=0)} \")"
   ]
  },
  {
   "cell_type": "code",
   "execution_count": 90,
   "metadata": {},
   "outputs": [
    {
     "name": "stdout",
     "output_type": "stream",
     "text": [
      "По формуле: \n",
      "Смещенная оценка дисперсии - 950.11, \n",
      "Несмещенная оценка дисперсии - 1000.1157894736842\n",
      "С помощью метода:\n",
      "Смещенная оценка дисперсии - 950.11, \n",
      "Несмещенная оценка дисперсии - 1000.1157894736842\n"
     ]
    }
   ],
   "source": [
    "salary_variance = ((df['Salary'] - df['Salary'].mean()) ** 2).sum() / df['Salary'].count()\n",
    "salary_variance2 = ((df['Salary'] - df['Salary'].mean())**2).sum() / (df['Salary'].count() - 1)\n",
    "print(f\"По формуле: \\nСмещенная оценка дисперсии - {salary_variance}, \\nНесмещенная оценка дисперсии - {salary_variance2}\")\n",
    "print(f\"С помощью метода:\\nСмещенная оценка дисперсии - {df['Salary'].var(ddof=0)}, \\nНесмещенная оценка дисперсии - {df['Salary'].var(ddof=1)}\")"
   ]
  },
  {
   "cell_type": "markdown",
   "metadata": {},
   "source": [
    "### Задача 2\n",
    "\n",
    "###### Для выборки из задачи 1 найти первый и третий квартили, интерквартильное расстояние. Найти выборсы в выборке, используя для этого \"усы\" из boxplot. В этой задаче можно использовать статистические функции."
   ]
  },
  {
   "cell_type": "code",
   "execution_count": 92,
   "metadata": {},
   "outputs": [
    {
     "data": {
      "text/plain": [
       "<matplotlib.axes._subplots.AxesSubplot at 0x1ec51164548>"
      ]
     },
     "execution_count": 92,
     "metadata": {},
     "output_type": "execute_result"
    },
    {
     "data": {
      "image/png": "[encoded data removed]",
      "text/plain": [
       "<Figure size 432x288 with 1 Axes>"
      ]
     },
     "metadata": {
      "needs_background": "light"
     },
     "output_type": "display_data"
    }
   ],
   "source": [
    "df[['Salary']].boxplot()"
   ]
  },
  {
   "cell_type": "code",
   "execution_count": 93,
   "metadata": {},
   "outputs": [
    {
     "name": "stdout",
     "output_type": "stream",
     "text": [
      "Первый квартиль: 42.0\n",
      "Трейтий квартиль: 81.0\n",
      "Интерквартильное расстояние: 39.0\n",
      "Выбросы:\n"
     ]
    },
    {
     "data": {
      "text/html": [
       "<div>\n",
       "<style scoped>\n",
       "    .dataframe tbody tr th:only-of-type {\n",
       "        vertical-align: middle;\n",
       "    }\n",
       "\n",
       "    .dataframe tbody tr th {\n",
       "        vertical-align: top;\n",
       "    }\n",
       "\n",
       "    .dataframe thead th {\n",
       "        text-align: right;\n",
       "    }\n",
       "</style>\n",
       "<table border=\"1\" class=\"dataframe\">\n",
       "  <thead>\n",
       "    <tr style=\"text-align: right;\">\n",
       "      <th></th>\n",
       "      <th>Salary</th>\n",
       "    </tr>\n",
       "  </thead>\n",
       "  <tbody>\n",
       "    <tr>\n",
       "      <th>19</th>\n",
       "      <td>150</td>\n",
       "    </tr>\n",
       "  </tbody>\n",
       "</table>\n",
       "</div>"
      ],
      "text/plain": [
       "    Salary\n",
       "19     150"
      ]
     },
     "execution_count": 93,
     "metadata": {},
     "output_type": "execute_result"
    }
   ],
   "source": [
    "q_1 = df['Salary'].quantile(0.25)\n",
    "q_3 = df['Salary'].quantile(0.75)\n",
    "iqr = q_3 - q_1\n",
    "\n",
    "boxplot_range = (q_1 - 1.5 * iqr, q_3 + 1.5 * iqr)\n",
    "\n",
    "outliers = df.loc[(df['Salary'] < boxplot_range[0]) | (df['Salary'] > boxplot_range[1])]\n",
    "print(f'Первый квартиль: {q_1}')\n",
    "print(f'Трейтий квартиль: {q_3}')\n",
    "print(f'Интерквартильное расстояние: {iqr}')\n",
    "print(\"Выбросы:\")\n",
    "outliers"
   ]
  },
  {
   "cell_type": "markdown",
   "metadata": {},
   "source": [
    "### Задача 3\n",
    "\n",
    "###### В университет на факультеты A и B поступило равное количество студентов, а на факультет C студентов поступило столько же, сколько на A и B вместе. Вероятность того, что студент факультета A сдаст первую сессию, равна 0.8. Для студента факультета B эта вероятность равна 0.7, а для студента факультета C - 0.9. Студент сдал первую сессию. Какова вероятность, что он учится: a) на факультете A? б) на факультете B? в) на факультете C?"
   ]
  },
  {
   "cell_type": "markdown",
   "metadata": {},
   "source": [
    "A + B = C \n",
    "Значит вероятность того, что студент учится на факультете:\n"
   ]
  },
  {
   "cell_type": "code",
   "execution_count": 108,
   "metadata": {},
   "outputs": [],
   "source": [
    "A = 0.25\n",
    "B = 0.25\n",
    "C = 0.5"
   ]
  },
  {
   "cell_type": "markdown",
   "metadata": {},
   "source": [
    "Вероятность сдачи для каждого студента:"
   ]
  },
  {
   "cell_type": "code",
   "execution_count": 109,
   "metadata": {},
   "outputs": [],
   "source": [
    "P_a = 0.8\n",
    "P_b = 0.7\n",
    "P_c = 0.9"
   ]
  },
  {
   "cell_type": "markdown",
   "metadata": {},
   "source": [
    "Формула Байеса"
   ]
  },
  {
   "cell_type": "markdown",
   "metadata": {},
   "source": [
    "P(B|A)=P(B)⋅P(A|B)/P(A)"
   ]
  },
  {
   "cell_type": "markdown",
   "metadata": {},
   "source": [
    "По формуле полной вероятности:\n"
   ]
  },
  {
   "cell_type": "code",
   "execution_count": 110,
   "metadata": {},
   "outputs": [
    {
     "data": {
      "text/plain": [
       "0.825"
      ]
     },
     "execution_count": 110,
     "metadata": {},
     "output_type": "execute_result"
    }
   ],
   "source": [
    "P = 0.25 * 0.8 + 0.25 * 0.7 + 0.5 * 0.9\n",
    "P"
   ]
  },
  {
   "cell_type": "code",
   "execution_count": 112,
   "metadata": {},
   "outputs": [
    {
     "name": "stdout",
     "output_type": "stream",
     "text": [
      "Вероятность, что студент учится на факультете A: 0.24242424242424246\n",
      "Вероятность, что студент учится на факультете A: 0.21212121212121213\n",
      "Вероятность, что студент учится на факультете A: 0.5454545454545455\n",
      "1.0\n"
     ]
    }
   ],
   "source": [
    "A_res = P_a * A / P\n",
    "print(f'Вероятность, что студент учится на факультете A: {A_res}')\n",
    "B_res = P_b * B / P\n",
    "print(f'Вероятность, что студент учится на факультете A: {B_res}')\n",
    "C_res = P_c * C / P\n",
    "print(f'Вероятность, что студент учится на факультете A: {C_res}')\n",
    "print(A + B + C)"
   ]
  }
 ],
 "metadata": {
  "kernelspec": {
   "display_name": "Python 3",
   "language": "python",
   "name": "python3"
  },
  "language_info": {
   "codemirror_mode": {
    "name": "ipython",
    "version": 3
   },
   "file_extension": ".py",
   "mimetype": "text/x-python",
   "name": "python",
   "nbconvert_exporter": "python",
   "pygments_lexer": "ipython3",
   "version": "3.7.6"
  }
 },
 "nbformat": 4,
 "nbformat_minor": 4
}
