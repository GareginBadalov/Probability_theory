{
 "cells": [
  {
   "cell_type": "code",
   "execution_count": 11,
   "metadata": {},
   "outputs": [],
   "source": [
    "import pandas as pd\n",
    "import numpy as np\n",
    "from math import sqrt\n",
    "import scipy.stats as ss"
   ]
  },
  {
   "cell_type": "markdown",
   "metadata": {},
   "source": [
    "### Задача 1\n",
    "###### О непрерывной равномерно распределенной случайной величине B известно, что ее дисперсия равна 0.2. Можно ли найти правую границу величины B и ее среднее значение зная, что левая граница равна 0.5? Если да, найдите ее."
   ]
  },
  {
   "cell_type": "markdown",
   "metadata": {},
   "source": [
    "$$M(X) = \\dfrac{a + b}{2}, \\text{ } D(X) = \\dfrac{(b - a)^2}{12}.$$"
   ]
  },
  {
   "cell_type": "markdown",
   "metadata": {},
   "source": [
    "Чтобы найти правую границу, можно из формулы дисперсии вынести ее и решить уравнение. 0.2 = ((b - 0.5)**2)/12"
   ]
  },
  {
   "cell_type": "code",
   "execution_count": 10,
   "metadata": {},
   "outputs": [
    {
     "name": "stdout",
     "output_type": "stream",
     "text": [
      "Правая граница B = 2.049193338482967, а математическое ожидание M = 1.2745966692414834\n"
     ]
    }
   ],
   "source": [
    "D = 0.2\n",
    "A = 0.5\n",
    "\n",
    "B = sqrt(12*D)+A\n",
    "M = (A + B)/2\n",
    "\n",
    "print(f'Правая граница B = {B}, а математическое ожидание M = {M}')"
   ]
  },
  {
   "cell_type": "markdown",
   "metadata": {},
   "source": [
    "### Задача 2\n",
    "\n",
    "###### Рост взрослого населения города X имеет нормальное распределение, причем, средний рост равен 174 см, а среднее квадратическое отклонение равно 8 см. посчитайте, какова вероятность того, что случайным образом выбранный взрослый человек имеет рост:\n",
    "1. больше 182 см?\n",
    "2. больше 190 см?\n",
    "3. от 166 см до 190 см?\n",
    "4. от 166 см до 182 см?\n",
    "5. от 158 см до 190 см?\n",
    "6. не выше 150 см или не ниже 190 см?\n",
    "7. не выше 150 см или не ниже 198 см?\n",
    "8. ниже 166 см?"
   ]
  },
  {
   "cell_type": "code",
   "execution_count": 16,
   "metadata": {},
   "outputs": [
    {
     "name": "stdout",
     "output_type": "stream",
     "text": [
      "Ответ:\n",
      " больше 182 см: 0.1587\n",
      " больше 190 см: 0.0228\n",
      " от 166 см до 190 см: 0.8186\n",
      " от 166 см до 182 см: 0.6827\n",
      " от 158 см до 190 см: 0.9545\n",
      " не выше 150 см или не ниже 190 см: 0.0241\n",
      " не выше 150 см или не ниже 198 см: 0.0027\n",
      " ниже 166 см.: 0.1587\n"
     ]
    }
   ],
   "source": [
    "M = 174\n",
    "S = 8\n",
    "\n",
    "case_1 = 1 - ss.norm.cdf((182 - M) / S) - ss.norm.cdf((0 - M) / S)\n",
    "case_2 = 1 - ss.norm.cdf((190 - M) / S) - ss.norm.cdf((0 - M) / S)\n",
    "case_3 = ss.norm.cdf((190 - M) / S) - ss.norm.cdf((166 - M) / S)\n",
    "case_4 = ss.norm.cdf((182 - M) / S) - ss.norm.cdf((166 - M) / S)\n",
    "case_5 = ss.norm.cdf((190 - M) / S) - ss.norm.cdf((158 - M) / S)\n",
    "case_6 = (1 - ss.norm.cdf((190 - M) / S) - ss.norm.cdf((0 - M) / S)) + (ss.norm.cdf((150 - M) / S) - ss.norm.cdf((0 - M) / S))\n",
    "case_7 = (1 - ss.norm.cdf((198 - M) / S) - ss.norm.cdf((0 - M) / S)) + (ss.norm.cdf((150 - M) / S) - ss.norm.cdf((0 - M) / S))\n",
    "case_8 = ss.norm.cdf((166 - M) / S) - ss.norm.cdf((0 - M) / S)\n",
    "\n",
    "print('Ответ:')\n",
    "print(f' больше 182 см: {np.round(case_1, 4)}')\n",
    "print(f' больше 190 см: {np.round(case_2, 4)}')\n",
    "print(f' от 166 см до 190 см: {np.round(case_3, 4)}')\n",
    "print(f' от 166 см до 182 см: {np.round(case_4, 4)}')\n",
    "print(f' от 158 см до 190 см: {np.round(case_5, 4)}')\n",
    "print(f' не выше 150 см или не ниже 190 см: {np.round(case_6, 4)}')\n",
    "print(f' не выше 150 см или не ниже 198 см: {np.round(case_7, 4)}')\n",
    "print(f' ниже 166 см.: {np.round(case_8, 4)}')"
   ]
  },
  {
   "cell_type": "code",
   "execution_count": null,
   "metadata": {},
   "outputs": [],
   "source": []
  }
 ],
 "metadata": {
  "kernelspec": {
   "display_name": "Python 3",
   "language": "python",
   "name": "python3"
  },
  "language_info": {
   "codemirror_mode": {
    "name": "ipython",
    "version": 3
   },
   "file_extension": ".py",
   "mimetype": "text/x-python",
   "name": "python",
   "nbconvert_exporter": "python",
   "pygments_lexer": "ipython3",
   "version": "3.7.6"
  }
 },
 "nbformat": 4,
 "nbformat_minor": 4
}
